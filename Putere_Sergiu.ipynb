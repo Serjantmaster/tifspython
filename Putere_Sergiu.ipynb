{
 "cells": [
  {
   "cell_type": "code",
   "execution_count": 2,
   "metadata": {},
   "outputs": [],
   "source": [
    "#2\n",
    "nume = \"Putere\" \n",
    "prenume = \"Sergiu\""
   ]
  },
  {
   "cell_type": "code",
   "execution_count": 93,
   "metadata": {},
   "outputs": [
    {
     "name": "stdout",
     "output_type": "stream",
     "text": [
      "Putere\n",
      "Sergiu\n"
     ]
    }
   ],
   "source": [
    "#3\n",
    "print(f\"{nume}\")\n",
    "print(f\"{prenume}\")"
   ]
  },
  {
   "cell_type": "code",
   "execution_count": 94,
   "metadata": {},
   "outputs": [
    {
     "name": "stdout",
     "output_type": "stream",
     "text": [
      "3\n",
      "1\n",
      "2\n",
      "P\n",
      "Pu\n",
      "0.5\n",
      "0\n",
      "0.020833333333333332\n"
     ]
    }
   ],
   "source": [
    "#4\n",
    "a = int(input(\"introdu numarul a\"))\n",
    "b = int(input(\"introdu numarul b\"))\n",
    "#5\n",
    "suma= a+b\n",
    "print(suma)\n",
    "#6\n",
    "diferenta=b-a\n",
    "print(diferenta)\n",
    "#7\n",
    "produsul=a*b\n",
    "print(produsul)\n",
    "#8\n",
    "for i in range(a):\n",
    "    print(nume)\n",
    "#9\n",
    "for g in range(b):\n",
    "    print(prenume)\n",
    "#10\n",
    "catul=a/b\n",
    "print(catul)\n",
    "#11\n",
    "restul=b%a\n",
    "print(restul)\n",
    "#12\n",
    "rezultat= (a+b) / 144\n",
    "print(rezultat)\n"
   ]
  },
  {
   "cell_type": "code",
   "execution_count": 5,
   "metadata": {},
   "outputs": [
    {
     "name": "stdout",
     "output_type": "stream",
     "text": [
      "def\n",
      "abcd\n",
      "fedcba\n",
      "dcb\n",
      "6\n"
     ]
    }
   ],
   "source": [
    "\n",
    "#13-14\n",
    "text= input(\"introdu un text\")\n",
    "#15\n",
    "print(text[-3:])\n",
    "#16\n",
    "print(text[0:4])\n",
    "#17\n",
    "print(text[::-1])\n",
    "#18\n",
    "text_inversat = text[-1::-1]\n",
    "number = len(text)\n",
    "if number%2 == 1:\n",
    "    print(text_inversat[len(text)//2-1:len(text)//2+2])\n",
    "else:\n",
    "    print(text_inversat[len(text)//2-1:len(text)//2+2])\n",
    "#19\n",
    "lungimea = len(text)\n",
    "print(lungimea)\n",
    "#20\n",
    "print(text.upper)\n",
    "#21\n",
    "for j in text:\n",
    "    if j == \"a\":\n",
    "        print(\"*\",end=\"\")\n",
    "    else:\n",
    "         print(j,end=\"\")\n",
    "print()\n",
    "#22\n",
    "q = 0\n",
    "for i in text:\n",
    "    for j in range(10):\n",
    "        if str(j) == i:\n",
    "            q = 1\n",
    "if q == 1:\n",
    "    print(\"stringul are un numar\")  \n",
    "#23\n",
    "print(text+nume+prenume)\n",
    "#24\n",
    "end = text[text.find(\"end\"):text.find(\"end\")+3]\n",
    "if end == text[-3:]:\n",
    "    print(\"textul se termina cu end\")\n",
    "#25\n",
    "indice = \"ana\"\n",
    "if indice == text[text.find(\"ana\") : text.find(\"ana\")+3]:\n",
    "    print(\"indicele de la care se incepe ana este \",text[text.find(\"ana\")-1])\n",
    "\n",
    "#30\n",
    "if  \"hello\" == text[text.find(\"hello\"):text.find(\"hello\")+5] and len(text)>10:\n",
    "    print(\"textul contine hello si are o lungime mai mare decât 10\")\n",
    "\n",
    "#34\n",
    "if  \"error\" == text[text.find(\"error\"):text.find(\"error\")+5]:\n",
    "    print(\"Trebuie să verificăm codul!\")\n",
    "else:\n",
    "    print(\"Totul funcționează perfect!\")\n",
    "\n",
    "#35\n",
    "if len(text)>len(nume+prenume):\n",
    "    print(\"tex e mai lung decat nume+prenume\")\n",
    "elif len(text)<len(nume+prenume):\n",
    "    print(\"numele+prenumele e mai lung decat text\")\n",
    "else:\n",
    "    print(\"text si nume+prenume sunt egale\")"
   ]
  },
  {
   "cell_type": "code",
   "execution_count": 96,
   "metadata": {},
   "outputs": [
    {
     "name": "stdout",
     "output_type": "stream",
     "text": [
      "a e mai mica decat b\n",
      "1\n",
      "a este pozitiv\n",
      "a este in intervalul 1-10\n",
      "a nu este multiplul lui b\n",
      "a este in intervalul de la 0 spre b(inclusiv)\n",
      "An normal\n"
     ]
    }
   ],
   "source": [
    "#26\n",
    "if a>b:\n",
    "    print(\"a e mai mare ca b\")\n",
    "elif a<b:\n",
    "    print(\"a e mai mica decat b\")\n",
    "else:\n",
    "    print(\"a este egala cu b\")\n",
    "#27\n",
    "if (a+b)%2 == 0:\n",
    "    print(\"a+b e un numar par\")  \n",
    "print((a+b)//2)\n",
    "#28\n",
    "if a > 0:\n",
    "    print(\"a este pozitiv\")\n",
    "elif a <= 0:\n",
    "    print(\"a este negativ/neutru\")\n",
    "#29\n",
    "if a >= 1 and a<=10:\n",
    "    print(\"a este in intervalul 1-10\")\n",
    "elif a >= 11 and a<=20:\n",
    "    print(\"a este in intervalul 11-20\")\n",
    "elif a > 21:\n",
    "    print(\"a este mai mare decat 20\")\n",
    "#31\n",
    "if a%b == 0:\n",
    "    print(\"a este multiplul al lui b\")\n",
    "else:\n",
    "    print(\"a nu este multiplul lui b\")\n",
    "#33\n",
    "if a%2 == 0 and a%3 == 0:\n",
    "    print(\"a este divizibil cu 2 si 3 simultan\")\n",
    "    print(\"a/2=\",a/2)\n",
    "    print(\"a/3=\",a/3)\n",
    "#37\n",
    "for i in range(b+1):\n",
    "    if i == a:\n",
    "        print(\"a este in intervalul de la 0 spre b(inclusiv)\")\n",
    "#38\n",
    "if a %3 == 0 and a%5 == 0:\n",
    "    print(\"FizzBuzz\")\n",
    "elif a% 3 ==0:\n",
    "    print(\"Fizz\")\n",
    "elif a%5==0:\n",
    "    print(\"Buzz\")\n",
    "#39\n",
    "if a%4==0 and a%100>=1:\n",
    "    print(\"An bisect\")\n",
    "elif a % 400 == 0:\n",
    "    print(\"An bisect\")\n",
    "else:\n",
    "    print(\"An normal\") \n",
    "\n"
   ]
  },
  {
   "cell_type": "code",
   "execution_count": 97,
   "metadata": {},
   "outputs": [
    {
     "name": "stdout",
     "output_type": "stream",
     "text": [
      "noapte buna\n"
     ]
    }
   ],
   "source": [
    "#32\n",
    "ora = range(25)\n",
    "i = int(input (\"introdu ora zilei\"))\n",
    "ora = ora[i]\n",
    "if ora >= 0 and ora<= 8:\n",
    "    print(\"buna dimineata\")\n",
    "elif ora >= 9 and ora<= 16:\n",
    "    print(\"buna ziua\")\n",
    "elif ora >= 17 and ora<= 20:\n",
    "    print(\"buna seara\")\n",
    "elif ora >= 21 and ora<= 24:\n",
    "    print(\"noapte buna\")\n"
   ]
  },
  {
   "cell_type": "code",
   "execution_count": 98,
   "metadata": {},
   "outputs": [
    {
     "name": "stdout",
     "output_type": "stream",
     "text": [
      "excelent\n"
     ]
    }
   ],
   "source": [
    "#36\n",
    "nota = range(11)\n",
    "i = int(input(\"introdu nota\"))\n",
    "nota = nota[i]\n",
    "if nota>=9:\n",
    "    print(\"excelent\")\n",
    "elif nota>=7:\n",
    "    print(\"bine\")\n",
    "elif nota>=5:\n",
    "    print(\"suficient\")\n",
    "else:\n",
    "    print(\"insuficient\")"
   ]
  },
  {
   "cell_type": "code",
   "execution_count": 90,
   "metadata": {},
   "outputs": [
    {
     "name": "stdout",
     "output_type": "stream",
     "text": [
      "[10, 9, 8, 7, 6, 5, 4, 3, 2, 1]\n",
      "[1, 2, 3, 4, 5]\n",
      "[1, 2, 3, 4, 6, 7, 8, 9, 10, 11, 12, 13, 14, 15, 16, 17, 18, 19, 20]\n",
      "10\n",
      "21\n",
      "32\n",
      "43\n",
      "65\n",
      "76\n",
      "87\n",
      "98\n",
      "109\n",
      "1110\n",
      "1211\n",
      "1312\n",
      "1413\n",
      "1514\n",
      "1615\n",
      "1716\n",
      "1817\n",
      "1918\n",
      "2019\n",
      "[10, 9, 8, 7, 6, 5, 4, 3, 2, 1]\n",
      "[1, 2, 3, 4, 5]\n",
      "[1, 2, 3, 4, 6, 7, 8, 9, 10, 11, 12, 13, 14, 15, 16, 17, 18, 19, 20]\n",
      "10\n",
      "21\n",
      "32\n",
      "43\n",
      "65\n",
      "76\n",
      "87\n",
      "98\n",
      "109\n",
      "1110\n",
      "1211\n",
      "1312\n",
      "1413\n",
      "1514\n",
      "1615\n",
      "1716\n",
      "1817\n",
      "1918\n",
      "2019\n",
      "slice(None, [20, 19, 18, 17, 16, 15, 14, 13, 12, 11, 10, 9, 8, 7, 6, 4, 3, 2, 1], None)\n",
      "[1, 2, 3, 4, 6, 7, 8, 9, 10, 11, 12, 13, 14, 15, 16, 17, 18, 19, 20, '!', '@', '#', '$', '%']\n",
      "['%%%%%%%%%%%%%%%%%%%%%%%%%%%%%%%%%%%%%%%%%%%%%%%%%%%%%%%%%%%%%%%%', '$$$$$$$$$$$$$$$$$$$$$$$$$$$$$$$$$$$$$$$$$$$$$$$$$$$$$$$$$$$$$$$$', '################################################################', '@@@@@@@@@@@@@@@@@@@@@@@@@@@@@@@@@@@@@@@@@@@@@@@@@@@@@@@@@@@@@@@@', '!!!!!!!!!!!!!!!!!!!!!!!!!!!!!!!!!!!!!!!!!!!!!!!!!!!!!!!!!!!!!!!!', 1280, 1216, 1152, 1088, 1024, 960, 896, 832, 768, 704, 640, 576, 512, 448, 384, 256, 192, 128, 64]\n",
      "[64, 128, 192, 256, 384, 448, 512, 576, 640, 704, 768, 832, 896, 960, 1024, 1088, 1152, 1216, 1280, '!!!!!!!!!!!!!!!!!!!!!!!!!!!!!!!!!!!!!!!!!!!!!!!!!!!!!!!!!!!!!!!!', '@@@@@@@@@@@@@@@@@@@@@@@@@@@@@@@@@@@@@@@@@@@@@@@@@@@@@@@@@@@@@@@@', '################################################################', '$$$$$$$$$$$$$$$$$$$$$$$$$$$$$$$$$$$$$$$$$$$$$$$$$$$$$$$$$$$$$$$$', '%%%%%%%%%%%%%%%%%%%%%%%%%%%%%%%%%%%%%%%%%%%%%%%%%%%%%%%%%%%%%%%%']\n"
     ]
    }
   ],
   "source": [
    "#40\n",
    "nr1 = [1,2,3,4,5,6,7,8,9,10]\n",
    "print(nr1)\n",
    "#41\n",
    "print(nr1[-1::-1])\n",
    "#42\n",
    "nr1 = nr1+[11,12,13,14,15,16,17,18,19,20]\n",
    "#43\n",
    "nr2 = nr1[:5]\n",
    "print(nr2)\n",
    "#44\n",
    "nr1 = nr1[0:4]+nr1[5:]\n",
    "print(nr1)\n",
    "#45\n",
    "for i in nr1:\n",
    "    print(f\"{i}{i-1}\")\n",
    "#46\n",
    "print(nr1[-1::-1])\n",
    "#47\n",
    "elemente_noi = list(input(\"introdu 5 elemente noi\"))\n",
    "for i in range(10):\n",
    "    for k in elemente_noi:\n",
    "        if str(i) == k:\n",
    "            print(\"sunt numere tastate de la tastatura\")\n",
    "nr1 = nr1 + elemente_noi\n",
    "print(nr1)\n",
    "#48\n",
    "while nr1[0]<= 50:\n",
    "  for i in range(len(nr1)):\n",
    "    nr1[i]=nr1[i]*2\n",
    "#49\n",
    "nr1 = nr1[-1::-1]\n",
    "print(nr1)\n",
    "nr1 = nr1[-1::-1]\n",
    "print(nr1)\n",
    "\n"
   ]
  },
  {
   "cell_type": "code",
   "execution_count": null,
   "metadata": {},
   "outputs": [],
   "source": []
  },
  {
   "cell_type": "code",
   "execution_count": 304,
   "metadata": {},
   "outputs": [
    {
     "name": "stdout",
     "output_type": "stream",
     "text": [
      "['1', '4', '9', '16', '25', '36', '49', '64', '81', '100']\n",
      "['1', '9', '25', '49', '81']\n"
     ]
    }
   ],
   "source": [
    "#50\n",
    "n = []\n",
    "\n",
    "for i in range(101):\n",
    "    for k in range(1,11):\n",
    "        i = int(i)\n",
    "        k = int(k)\n",
    "        if i**(1/2)/k == 1:\n",
    "            i = str(i)\n",
    "            n =n+list([i])\n",
    "    \n",
    "print(n)\n",
    "#51\n",
    "print(n[0:len(n):+2])\n",
    "\n"
   ]
  },
  {
   "cell_type": "code",
   "execution_count": 312,
   "metadata": {},
   "outputs": [
    {
     "name": "stdout",
     "output_type": "stream",
     "text": [
      "0\n",
      "1\n",
      "3\n",
      "5\n",
      "6\n",
      "8\n"
     ]
    }
   ],
   "source": [
    "#52\n",
    "lista5 = list(input())\n",
    "for i in range(11):\n",
    "    for k in lista5:\n",
    "        if str(i) == k:\n",
    "            print(i)"
   ]
  },
  {
   "cell_type": "code",
   "execution_count": 102,
   "metadata": {},
   "outputs": [
    {
     "name": "stdout",
     "output_type": "stream",
     "text": [
      "lista e palindrom\n"
     ]
    }
   ],
   "source": [
    "#53\n",
    "lista = list(input(\" \"))\n",
    "if lista == lista[-1::-1]:\n",
    "    print(\"lista e palindrom\")\n",
    "else:\n",
    "    print(\"lista nu e palindrom\")"
   ]
  },
  {
   "cell_type": "code",
   "execution_count": 103,
   "metadata": {},
   "outputs": [
    {
     "name": "stdout",
     "output_type": "stream",
     "text": [
      "0\n",
      "7\n",
      "14\n",
      "21\n",
      "28\n",
      "35\n",
      "42\n",
      "49\n",
      "56\n",
      "63\n",
      "70\n"
     ]
    }
   ],
   "source": [
    "#54\n",
    "for i in range(11):\n",
    "    print(i*7)"
   ]
  },
  {
   "cell_type": "code",
   "execution_count": 104,
   "metadata": {},
   "outputs": [
    {
     "name": "stdout",
     "output_type": "stream",
     "text": [
      "[[1, 1], [1, 2], [1, 3], [1, 4], [1, 5], [2, 1], [2, 2], [2, 3], [2, 4], [2, 5], [3, 1], [3, 2], [3, 3], [3, 4], [3, 5], [4, 1], [4, 2], [4, 3], [4, 4], [4, 5], [5, 1], [5, 2], [5, 3], [5, 4], [5, 5]]\n",
      "[1, 2]\n",
      "[1, 3]\n",
      "[1, 4]\n",
      "[1, 5]\n",
      "[2, 3]\n",
      "[2, 4]\n",
      "[2, 5]\n",
      "[3, 4]\n",
      "[3, 5]\n",
      "[4, 5]\n"
     ]
    }
   ],
   "source": [
    "#55\n",
    "lista = [[1,1],[1,2],[1,3],[1,4],[1,5],[2,1],[2,2],[2,3],[2,4],[2,5],[3,1],[3,2],[3,3],[3,4],[3,5],[4,1],[4,2],[4,3],[4,4],[4,5],[5,1],[5,2],[5,3],[5,4],[5,5]]\n",
    "print(lista)\n",
    "#56\n",
    "for k in lista:\n",
    "    if k[0]<k[1]:\n",
    "        print(k)\n"
   ]
  },
  {
   "cell_type": "code",
   "execution_count": 4,
   "metadata": {},
   "outputs": [
    {
     "name": "stdout",
     "output_type": "stream",
     "text": [
      "['12', '654321', '45']\n",
      "[2, 6, 2]\n"
     ]
    }
   ],
   "source": [
    "#57\n",
    "q = int(input(\"Cate stringuri sunt in lista?\"))\n",
    "lista = []\n",
    "for i in range(q):\n",
    "    i = str(input())\n",
    "    lista = lista + [i]\n",
    "print(lista)\n",
    "for j in range(q):\n",
    "    lista[j]= len(lista[j])\n",
    "\n",
    "print(lista)\n",
    "    \n",
    "\n"
   ]
  },
  {
   "cell_type": "code",
   "execution_count": 9,
   "metadata": {},
   "outputs": [
    {
     "name": "stdout",
     "output_type": "stream",
     "text": [
      "19\n"
     ]
    }
   ],
   "source": [
    "#58\n",
    "q = int(input(\"Cate numere sunt in lista?\"))\n",
    "lista = []\n",
    "for i in range(q):\n",
    "    i = int(input())\n",
    "    lista = lista + [i]\n",
    "\n",
    "j = 0\n",
    "while j<q:\n",
    "    k = lista[j]\n",
    "    j +=1\n",
    "    if k>10:\n",
    "        print(k)\n",
    "        j = 10\n",
    "    elif j==q:\n",
    "        print(\"Nu există valori mai mari decât 10\")\n",
    "        j = 10\n",
    "    "
   ]
  },
  {
   "cell_type": "code",
   "execution_count": 31,
   "metadata": {},
   "outputs": [
    {
     "name": "stdout",
     "output_type": "stream",
     "text": [
      "Elementul exista\n"
     ]
    }
   ],
   "source": [
    "#59\n",
    "q = int(input(\"Cate stringuri sunt in lista?\"))\n",
    "lista = []\n",
    "for i in range(q):\n",
    "    i = str(input())\n",
    "    lista = lista + [i]\n",
    "\n",
    "elementul_dorit= str(input(\"Introdu elementul pe care il doresti sal gasesti\"))\n",
    "\n",
    "l = 0\n",
    "k = 0\n",
    "for j in lista:\n",
    "   if l ==0: \n",
    "    if j == elementul_dorit:\n",
    "        print(\"Elementul exista\")\n",
    "        l = 1\n",
    "    elif k < q-1:\n",
    "        print(end=\"\")\n",
    "        k +=1\n",
    "    else:\n",
    "      print(\"Elementul nu exista\")\n",
    "\n",
    "\n"
   ]
  },
  {
   "cell_type": "code",
   "execution_count": 263,
   "metadata": {},
   "outputs": [
    {
     "name": "stdout",
     "output_type": "stream",
     "text": [
      "********************\n",
      "*                  *\n",
      "*                  *\n",
      "*                  *\n",
      "*                  *\n",
      "*                  *\n",
      "*                  *\n",
      "*                  *\n",
      "*                  *\n",
      "*                  *\n",
      "*                  *\n",
      "*                  *\n",
      "*                  *\n",
      "*                  *\n",
      "*                  *\n",
      "*                  *\n",
      "*                  *\n",
      "*                  *\n",
      "*                  *\n",
      "********************"
     ]
    }
   ],
   "source": [
    "#60\n",
    "latura = int(input(\"Introdu marimia laturii patratului\"))\n",
    "\n",
    "for i in range(latura):\n",
    "    print(\"*\",end=\"\")\n",
    "print()\n",
    "\n",
    "for i in range(latura-2):\n",
    "    print(\"*\",end=\"\")\n",
    "    for i in range(latura-2):\n",
    "        print(end=\" \")\n",
    "    print(\"*\")\n",
    "for i in range(latura):\n",
    "    print(\"*\",end=\"\")"
   ]
  },
  {
   "cell_type": "code",
   "execution_count": 109,
   "metadata": {},
   "outputs": [
    {
     "name": "stdout",
     "output_type": "stream",
     "text": [
      "\n",
      "1\n",
      "12\n",
      "123\n",
      "1234\n",
      "12345\n",
      "123456\n"
     ]
    }
   ],
   "source": [
    "#61 a1\n",
    "for j in range(7):\n",
    "  for i in range(j):\n",
    "    print(i+1,end=\"\")\n",
    "  print()"
   ]
  },
  {
   "cell_type": "code",
   "execution_count": 110,
   "metadata": {},
   "outputs": [
    {
     "name": "stdout",
     "output_type": "stream",
     "text": [
      "54321\n",
      "5432\n",
      "543\n",
      "54\n",
      "5\n"
     ]
    }
   ],
   "source": [
    "#61 a2\n",
    "linie = [5,4,3,2,1]\n",
    "\n",
    "for j in linie:\n",
    "  for i in linie[0:j]:\n",
    "     print(i,end=\"\")\n",
    "  print()"
   ]
  },
  {
   "cell_type": "code",
   "execution_count": 111,
   "metadata": {},
   "outputs": [
    {
     "name": "stdout",
     "output_type": "stream",
     "text": [
      "abcdefg\n",
      "bcdefg\n",
      "cdefg\n",
      "defg\n",
      "efg\n",
      "fg\n",
      "g\n"
     ]
    }
   ],
   "source": [
    "#61 a3\n",
    "linie = [\"a\",\"b\",\"c\",\"d\",\"e\",\"f\",\"g\"]\n",
    "\n",
    "for j in range(7):\n",
    "  for i in linie[j::]:\n",
    "     print(i,end=\"\")\n",
    "  print()\n"
   ]
  },
  {
   "cell_type": "code",
   "execution_count": 112,
   "metadata": {},
   "outputs": [
    {
     "name": "stdout",
     "output_type": "stream",
     "text": [
      "+-+-+-+-+-+-+-+-\n",
      "-+-+-+-+-+-+-+-+\n",
      "+-+-+-+-+-+-+-+-\n",
      "-+-+-+-+-+-+-+-+\n",
      "+-+-+-+-+-+-+-+-\n",
      "-+-+-+-+-+-+-+-+\n",
      "+-+-+-+-+-+-+-+-\n",
      "-+-+-+-+-+-+-+-+\n"
     ]
    }
   ],
   "source": [
    "#61 a4\n",
    "for k in range(4):\n",
    "    for i in range(8):\n",
    "      print(\"+-\",end=\"\")\n",
    "    print()\n",
    "    for l in range(8):\n",
    "      print(\"-+\",end=\"\")\n",
    "    print()\n"
   ]
  },
  {
   "cell_type": "code",
   "execution_count": 113,
   "metadata": {},
   "outputs": [
    {
     "name": "stdout",
     "output_type": "stream",
     "text": [
      "\n",
      "3 \n",
      "3 9 \n",
      "3 9 27 \n",
      "3 9 27 81 \n",
      "3 9 27 81 243 \n",
      "3 9 27 81 \n",
      "3 9 27 \n",
      "3 9 \n",
      "3 \n",
      "\n",
      "\n"
     ]
    }
   ],
   "source": [
    "#61 a5\n",
    "cifre = [3,9,27,81,243]\n",
    "\n",
    "for j in range(6):\n",
    "    for i in range(j):\n",
    "     print(cifre[i],end=\" \")\n",
    "    print()\n",
    "for j in range(6):\n",
    "    for i in range(4-j):\n",
    "     print(cifre[i],end=\" \")\n",
    "    print()"
   ]
  },
  {
   "cell_type": "code",
   "execution_count": 114,
   "metadata": {},
   "outputs": [
    {
     "name": "stdout",
     "output_type": "stream",
     "text": [
      "    \n",
      "   **\n",
      "  ****\n",
      " ******\n",
      "None\n"
     ]
    }
   ],
   "source": [
    "#62\n",
    "def print_pyramid(n):\n",
    "    \"\"\"\n",
    "    Funcție care construeste o piramidă\n",
    "\n",
    "    Args:\n",
    "        n [int] :  inaltimea piarmidei\n",
    "\n",
    "    Returns:\n",
    "        o piramida \n",
    "    \"\"\"\n",
    "    n +=1\n",
    "    l = n\n",
    "\n",
    "    for i in range(n):\n",
    "        for k in range(l):\n",
    "           print(end=\" \")\n",
    "        for j in range(i):\n",
    "           print(\"**\",end=\"\")\n",
    "        print()\n",
    "        l -=1\n",
    "\n",
    "n = int(input(\"\"))\n",
    "print(print_pyramid(n))\n"
   ]
  },
  {
   "cell_type": "code",
   "execution_count": 229,
   "metadata": {},
   "outputs": [
    {
     "name": "stdout",
     "output_type": "stream",
     "text": [
      "numarul nu e prim\n",
      "None\n"
     ]
    }
   ],
   "source": [
    "#63\n",
    "numere = int(input())\n",
    "def numar_prim(i):\n",
    "   \"\"\"\n",
    "   Aceasta functie combina doua liste si returneza o lista noua\n",
    "\n",
    "   Args:\n",
    "      lista1(list) : prima lista de combinat.\n",
    "      lista2(list) : a doua lista de combinat.\n",
    "\n",
    "   Retrns:\n",
    "      o lista ce contine lista1 si lista2\n",
    "   Raises:\n",
    "\n",
    "   \"\"\"\n",
    "\n",
    "\n",
    "   if i > 1: \n",
    "      if i == 2:\n",
    "          print(\"numarul e prim\")\n",
    "      else:\n",
    "         if i == 3:\n",
    "             print(\"numarul e prim\")\n",
    "         else:\n",
    "             if i%2 == 0 or i%3==0:\n",
    "               print(\"numarul nu e prim\")\n",
    "             else:\n",
    "               print(\"numarul e prim\")\n",
    "   else:\n",
    "      print(\"numarul nu e prim\")\n",
    "\n",
    "print(numar_prim(numere))\n",
    "               "
   ]
  },
  {
   "cell_type": "code",
   "execution_count": 237,
   "metadata": {},
   "outputs": [
    {
     "name": "stdout",
     "output_type": "stream",
     "text": [
      "['a', 'f', 'e', 'g', 'e', 'w']\n"
     ]
    }
   ],
   "source": [
    "#64\n",
    "def merge_list(lista1,lista2):\n",
    "    \"\"\"\n",
    "    Aceasta functie combina doua liste si returneza o lista noua\n",
    "\n",
    "    Args:\n",
    "    lista1(list) : prima lista de combinat.\n",
    "    lista2(list) : a doua lista de combinat.\n",
    "\n",
    "    Retrns:\n",
    "        o lista ce contine lista1 si lista2\n",
    "    Raises:\n",
    "\n",
    "    \"\"\"\n",
    "    lista4 = []\n",
    "    lista4 = lista4+lista1+lista2\n",
    "    return lista4\n",
    "lista1 = list(input(\"\"))\n",
    "lista2 = list(input(\"\"))\n",
    "print(merge_list(lista1,lista2))\n",
    "\n"
   ]
  },
  {
   "cell_type": "code",
   "execution_count": 117,
   "metadata": {},
   "outputs": [
    {
     "name": "stdout",
     "output_type": "stream",
     "text": [
      "{'media': 3.0, 'mediana': '3', 'modul': 3.0}\n"
     ]
    }
   ],
   "source": [
    "#65\n",
    "def calculate_stats(lista_note):\n",
    "        \"\"\"\n",
    "    Funcție care  returnează un dicționar cu media, mediana și modul listei.\n",
    "\n",
    "    Args:\n",
    "        lista_note (lista[int]) :  lista ce contine toate numerele\n",
    "\n",
    "    Returns:\n",
    "        un dictionar ce contine media,mediana și modul listei.\n",
    "    \"\"\"\n",
    "        \n",
    "        \n",
    "        dictionar ={\n",
    "                \"media\":[],\n",
    "                \"mediana\":[],\n",
    "                \"modul\":[],\n",
    "        }\n",
    "        a = 0\n",
    "        m = 0\n",
    "        for i in lista:\n",
    "            i = int(i)\n",
    "            a= a + i\n",
    "            m += 1\n",
    "        dictionar[\"media\"]= a/m\n",
    "\n",
    "        if m % 2 ==0:\n",
    "              dictionar[\"mediana\"] = lista[m//2-1:m//2+1]\n",
    "        else:\n",
    "              dictionar[\"mediana\"] = lista[m//2]\n",
    "        a=a**2\n",
    "        a=a**(1/2)\n",
    "        dictionar[\"modul\"] = a\n",
    "        return dictionar\n",
    "        \n",
    "       \n",
    "\n",
    "\n",
    "\n",
    "\n",
    "lista = list(input(\"introduceti numerele\"))\n",
    "print(calculate_stats(lista))\n"
   ]
  },
  {
   "cell_type": "code",
   "execution_count": 118,
   "metadata": {},
   "outputs": [
    {
     "name": "stdout",
     "output_type": "stream",
     "text": [
      "2\n",
      "None\n"
     ]
    }
   ],
   "source": [
    "#66\n",
    "n = int(input(\"\"))\n",
    "def fibonacci(n):\n",
    " \"\"\"\n",
    " Functia ce returneze al n-lea element din șirul lui Fibonacci, unde n este un parametru dat.\n",
    "\n",
    " Args:\n",
    " n(int): a catelea numar vrei sal iai din sirul lui Fibonacci\n",
    " \n",
    " Return:\n",
    " \n",
    " \"\"\"\n",
    "\n",
    "\n",
    " a = 1\n",
    " b = 1\n",
    " if n - 2 <=0:\n",
    "   c = 1\n",
    " else:\n",
    "    for i in range (n-2):\n",
    "     c = a+b\n",
    "     b = a\n",
    "     a =c \n",
    " print (c)\n",
    "print(fibonacci(n))\n",
    "    "
   ]
  },
  {
   "cell_type": "code",
   "execution_count": 35,
   "metadata": {},
   "outputs": [
    {
     "name": "stdout",
     "output_type": "stream",
     "text": [
      "{'3': 'a', '4': 'b'}\n"
     ]
    }
   ],
   "source": [
    "#67\n",
    "dictionar = {}\n",
    "nr_chei = int(input(\"cate chei ai in dictionar?\"))\n",
    "for i in range(nr_chei):\n",
    "    j = str(input(\"adauga numele cheii\"))\n",
    "    k = str(input(\"adauga valoarea cheii pe care ai scriso\"))\n",
    "    dictionar[j]=k\n",
    "\n",
    "def invert_dict(dictionar):\n",
    "     \"\"\"\n",
    "     Functie ce reurneza un dictionar care are inversate cheile cu valorile cheilor si invers\n",
    "\n",
    "     Args:\n",
    "        invert_dict (Dict): un dictionar ce contine chei si valorile acestora\n",
    "    \n",
    "     Returns:\n",
    "        un dictionar care are inversate cheile cu valorile cheilor si invers\n",
    "\n",
    "     \"\"\"\n",
    "\n",
    "     reverse_dict={}\n",
    "     for key, value in dictionar.items():\n",
    "        reverse_dict[value]=key\n",
    "     return reverse_dict\n",
    "\n",
    "print(invert_dict(dictionar))\n"
   ]
  },
  {
   "cell_type": "code",
   "execution_count": 32,
   "metadata": {},
   "outputs": [
    {
     "name": "stdout",
     "output_type": "stream",
     "text": [
      "{'a': 2, 'b': 1, 'c': 1, 'd': 1}\n"
     ]
    }
   ],
   "source": [
    "#68\n",
    "all_freq = {}\n",
    "test_str = str(input(\"\"))\n",
    "\n",
    "def unique_elements(test_str):\n",
    "    \"\"\"\n",
    "    Functie ce iti da un dictionar cu frecventa caracterelor din stringul dat\n",
    "\n",
    "    Args:\n",
    "        test_str(str): un string ce contine caractere\n",
    "    \n",
    "    Returns:\n",
    "        un dictionar cu frecventa caracterelor din stringul dat\n",
    "    \"\"\"\n",
    "    \n",
    "    all_freq = {}\n",
    "    n = 0\n",
    "    for i in test_str:\n",
    "        for j in test_str:\n",
    "            if i == j:\n",
    "                n+=1\n",
    "        all_freq[i]=n\n",
    "        n = 0\n",
    "    return(all_freq)\n",
    "\n",
    "print(unique_elements(test_str))\n"
   ]
  },
  {
   "cell_type": "code",
   "execution_count": 103,
   "metadata": {},
   "outputs": [
    {
     "name": "stdout",
     "output_type": "stream",
     "text": [
      "['a', 'c', 'g']\n"
     ]
    }
   ],
   "source": [
    "#69\n",
    "q = int(input(\"Cate stringuri sunt in lista?\"))\n",
    "lista = []\n",
    "for i in range(q):\n",
    "    i = str(input())\n",
    "    lista = lista + [i]\n",
    "\n",
    "def unique_elements(lista):\n",
    " lista2 =[0]\n",
    " lista3 = [0]\n",
    "\n",
    " k = 0\n",
    " b=0\n",
    " for j in lista:\n",
    "    for g in lista:\n",
    "        if j == g:\n",
    "            b+=1\n",
    "    if b == 1:\n",
    "        lista2[k]=j\n",
    "        k +=1\n",
    "        b = 0\n",
    "        lista2 = lista2+lista3\n",
    "    b = 0\n",
    " lista2 = lista2[0:k]\n",
    " return lista2\n",
    "\n",
    "print(unique_elements(lista))"
   ]
  },
  {
   "cell_type": "code",
   "execution_count": 122,
   "metadata": {},
   "outputs": [
    {
     "name": "stdout",
     "output_type": "stream",
     "text": [
      "['3']\n",
      "None\n"
     ]
    }
   ],
   "source": [
    "#70\n",
    "lista1 = list(input())\n",
    "lista2 = list(input())\n",
    "def comon_elements(lista1,lista2):\n",
    "\n",
    "    \"\"\"\n",
    "  Funcție care  returnează o lista cu elementele comune a celor 2 liste\n",
    "\n",
    "  Args:\n",
    "        lista1 (lista) :  lista ce continine elemente\n",
    "        lista2 (lista) :  lista ce continine elemente\n",
    "\n",
    "  Returns:\n",
    "      o lista cu elementele comune a celor 2 liste.\n",
    "  \"\"\"\n",
    "    \n",
    "    lista3 = []\n",
    "    for i in lista1:\n",
    "       for k in lista2:\n",
    "         if i==k:\n",
    "           lista3 = lista3 + list(i)\n",
    "    print(lista3)\n",
    "\n",
    "\n",
    "\n",
    "print(comon_elements(lista1,lista2))\n"
   ]
  },
  {
   "cell_type": "code",
   "execution_count": 36,
   "metadata": {},
   "outputs": [
    {
     "name": "stdout",
     "output_type": "stream",
     "text": [
      "97\n"
     ]
    }
   ],
   "source": [
    "for j in text:\n",
    "    if j == \"a\":\n",
    "        print(\"*\",end=\"\")\n",
    "    else:\n",
    "         print(j,end=\"\")\n",
    "print()\n",
    "\n",
    "q = 0\n",
    "for i in text:\n",
    "    for j in range(10):\n",
    "        if str(j) == i:\n",
    "            q = 1\n",
    "if q == 1:\n",
    "    print(\"stringul are un numar\")       \n",
    "\n",
    "print(text+nume+prenume)\n",
    "end = text[text.find(\"end\"):text.find(\"end\")+3]\n",
    "if end == text[-3:]:\n",
    "    print(\"textul se termina cu end\")\n",
    "\n",
    "\n",
    "indice = \"ana\"\n",
    "if indice == text[text.find(\"ana\") : text.find(\"ana\")+3]:\n",
    "    print(\"indicele de la care se incepe ana este \",text[text.find(\"ana\")-1])\n",
    "\n",
    "\n",
    "if  \"hello\" == text[text.find(\"hello\"):text.find(\"hello\")+5] and len(text)>10:\n",
    "    print(\"textul contine hello si are o lungime mai mare decât 10\")\n",
    "\n",
    "\n",
    "if  \"error\" == text[text.find(\"error\"):text.find(\"error\")+5]:\n",
    "    print(\"Trebuie să verificăm codul!\")\n",
    "else:\n",
    "    print(\"Totul funcționează perfect!\")\n",
    "\n",
    "\n",
    "if len(text)>len(nume+prenume):\n",
    "    print(\"tex e mai lung decat nume+prenume\")\n",
    "elif len(text)<len(nume+prenume):\n",
    "    print(\"numele+prenumele e mai lung decat text\")\n",
    "else:\n",
    "    print(\"text si nume+prenume sunt egale\")"
   ]
  }
 ],
 "metadata": {
  "kernelspec": {
   "display_name": "Python 3",
   "language": "python",
   "name": "python3"
  },
  "language_info": {
   "codemirror_mode": {
    "name": "ipython",
    "version": 3
   },
   "file_extension": ".py",
   "mimetype": "text/x-python",
   "name": "python",
   "nbconvert_exporter": "python",
   "pygments_lexer": "ipython3",
   "version": "3.12.0"
  }
 },
 "nbformat": 4,
 "nbformat_minor": 2
}
